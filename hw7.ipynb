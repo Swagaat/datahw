{
  "nbformat": 4,
  "nbformat_minor": 0,
  "metadata": {
    "colab": {
      "provenance": [],
      "authorship_tag": "ABX9TyN8US9H/5CMl7rZrwGErexh",
      "include_colab_link": true
    },
    "kernelspec": {
      "name": "python3",
      "display_name": "Python 3"
    },
    "language_info": {
      "name": "python"
    }
  },
  "cells": [
    {
      "cell_type": "markdown",
      "metadata": {
        "id": "view-in-github",
        "colab_type": "text"
      },
      "source": [
        "<a href=\"https://colab.research.google.com/github/Swagaat/datahw/blob/main/hw7.ipynb\" target=\"_parent\"><img src=\"https://colab.research.google.com/assets/colab-badge.svg\" alt=\"Open In Colab\"/></a>"
      ]
    },
    {
      "cell_type": "code",
      "source": [
        "#Solution-2 \n",
        "class TreeNode:\n",
        "    def __init__(self, val=0, left=None, right=None):\n",
        "        self.val = val\n",
        "        self.left = left\n",
        "        self.right = right\n",
        "\n",
        "def triple_leaves(root):\n",
        "    if root is None:\n",
        "        return\n",
        "\n",
        "    if root.left is None and root.right is None:\n",
        "        root.val *= 3\n",
        "    else:\n",
        "        root.val *= 3\n",
        "        triple_leaves(root.left)\n",
        "        triple_leaves(root.right)\n",
        "# create a binary tree with root=1, left child=2, right child=3\n",
        "root = TreeNode(1)\n",
        "root.left = TreeNode(2)\n",
        "root.right = TreeNode(3)\n",
        "root.left.left = TreeNode(4)\n",
        "root.left.right = TreeNode(5)\n",
        "root.right.left = TreeNode(6)\n",
        "root.right.right = TreeNode(7)\n",
        "\n",
        "# Print the original binary tree\n",
        "print(\"Original binary tree:\")\n",
        "print(root.val)              # Output: 1\n",
        "print(root.left.val)         # Output: 2\n",
        "print(root.right.val)        # Output: 3\n",
        "print(root.left.left.val)    # Output: 4\n",
        "print(root.left.right.val)   # Output: 5\n",
        "print(root.right.left.val)   # Output: 6\n",
        "print(root.right.right.val)  # Output: 7\n",
        "\n",
        "# triple all the values in the binary tree\n",
        "triple_leaves(root)\n",
        "\n",
        "# print the values of the nodes in the binary tree\n",
        "print(\"Modified binary tree:\")\n",
        "print(root.val)              # output: 3\n",
        "print(root.left.val)         # output: 6\n",
        "print(root.right.val)        # output: 9\n",
        "print(root.left.left.val)    # output: 12\n",
        "print(root.left.right.val)   # output: 15\n",
        "print(root.right.left.val)   # output: 18\n",
        "print(root.right.right.val)  # output: 21 \n"
      ],
      "metadata": {
        "id": "4U0A3lqi-SbS",
        "colab": {
          "base_uri": "https://localhost:8080/"
        },
        "outputId": "c2f3ffde-9c1c-4787-a762-69c79d14190f"
      },
      "execution_count": 9,
      "outputs": [
        {
          "output_type": "stream",
          "name": "stdout",
          "text": [
            "Original binary tree:\n",
            "1\n",
            "2\n",
            "3\n",
            "4\n",
            "5\n",
            "6\n",
            "7\n",
            "Modified binary tree:\n",
            "3\n",
            "6\n",
            "9\n",
            "12\n",
            "15\n",
            "18\n",
            "21\n"
          ]
        }
      ]
    },
    {
      "cell_type": "code",
      "source": [
        "#SOlution-2\n",
        "class TreeNode:\n",
        "    def __init__(self, val=0, left=None, right=None):\n",
        "        self.val = val\n",
        "        self.left = left\n",
        "        self.right = right\n",
        "\n",
        "class FibonacciTree:\n",
        "    def __init__(self):\n",
        "        self.root = None\n",
        "\n",
        "    def Fib_tree(self, n):\n",
        "        if n == 0:\n",
        "            self.root = None\n",
        "        elif n == 1:\n",
        "            self.root = TreeNode(0)\n",
        "        else:\n",
        "            self.root = TreeNode(0)\n",
        "            current = self.root\n",
        "            next_node = TreeNode(1)\n",
        "            for i in range(2, n):\n",
        "                temp = next_node\n",
        "                next_node = TreeNode(current.val + next_node.val)\n",
        "                current.left = temp\n",
        "                current.right = next_node\n",
        "                current = temp\n",
        "\n",
        "    def print_tree(self):\n",
        "        self._print_tree(self.root)\n",
        "\n",
        "    def _print_tree(self, node):\n",
        "        if node is None:\n",
        "            return\n",
        "        self._print_tree(node.left)\n",
        "        print(node.val, end=' ')\n",
        "        self._print_tree(node.right)\n",
        "\n",
        "def test_fib_tree():\n",
        "    # create Fibonacci trees for n = 6 and n = 7\n",
        "    fib_tree_6 = FibonacciTree()\n",
        "    fib_tree_6.Fib_tree(6)\n",
        "    print(\"Fibonacci tree for n = 6: \")\n",
        "    fib_tree_6.print_tree()\n",
        "\n",
        "    fib_tree_7 = FibonacciTree()\n",
        "    fib_tree_7.Fib_tree(7)\n",
        "    print(\"\\nFibonacci tree for n = 7: \")\n",
        "    fib_tree_7.print_tree()\n",
        "\n",
        "test_fib_tree()\n"
      ],
      "metadata": {
        "colab": {
          "base_uri": "https://localhost:8080/"
        },
        "id": "um4cM6XLx0Jw",
        "outputId": "7104f07c-00ca-4ec3-877d-7c77083c6be1"
      },
      "execution_count": 30,
      "outputs": [
        {
          "output_type": "stream",
          "name": "stdout",
          "text": [
            "Fibonacci tree for n = 6: \n",
            "3 2 5 1 3 1 3 2 5 0 3 2 5 1 3 \n",
            "Fibonacci tree for n = 7: \n",
            "5 3 8 2 5 1 5 3 8 1 5 3 8 2 5 0 5 3 8 2 5 1 5 3 8 "
          ]
        }
      ]
    },
    {
      "cell_type": "code",
      "source": [
        "#Solution-3\n",
        "class TreeNode:\n",
        "    def __init__(self, val=0, left=None, right=None):\n",
        "        self.val = val\n",
        "        self.left = left\n",
        "        self.right = right\n",
        "\n",
        "\n",
        "class FibonacciTree:\n",
        "    def __init__(self):\n",
        "        self.root = None\n",
        "\n",
        "    def FibTree(self, n: int) -> TreeNode:\n",
        "        \"\"\"\n",
        "        A method that creates a Fibonacci tree based on the nth term in the Fibonacci sequence.\n",
        "\n",
        "        :param n: The nth term in the Fibonacci sequence (starting from 1).\n",
        "        :return: The root node of the Fibonacci tree.\n",
        "        \"\"\"\n",
        "        if n < 1:\n",
        "            return None\n",
        "\n",
        "        # Generate the Fibonacci sequence up to the nth term\n",
        "        fib_seq = [0, 1]\n",
        "        for i in range(2, n+1):\n",
        "            fib_seq.append(fib_seq[i-1] + fib_seq[i-2])\n",
        "\n",
        "        # Generate the Fibonacci tree using a recursive helper function\n",
        "        def helper(start: int, end: int) -> TreeNode:\n",
        "            if start > end:\n",
        "                return None\n",
        "            mid = (start + end) // 2\n",
        "            node = TreeNode(fib_seq[mid])\n",
        "            node.left = helper(start, mid-1)\n",
        "            node.right = helper(mid+1, end)\n",
        "            return node\n",
        "\n",
        "        self.root = helper(0, n-1)\n",
        "        return self.root\n",
        "\n",
        "    def print_tree(self, node: TreeNode, level=0):\n",
        "        \"\"\"\n",
        "        A method that prints out the values of a Fibonacci tree using indentation to indicate node depth.\n",
        "\n",
        "        :param node: The root node of the Fibonacci tree to print.\n",
        "        :param level: The depth level of the current node.\n",
        "        \"\"\"\n",
        "        if node is not None:\n",
        "            self.print_tree(node.right, level+1)\n",
        "            print('  ' * level + str(node.val))\n",
        "            self.print_tree(node.left, level+1)\n",
        "\n",
        "\n",
        "# Example usage\n",
        "fib_tree = FibonacciTree()\n",
        "root = fib_tree.FibTree(6)\n",
        "fib_tree.print_tree(root)\n"
      ],
      "metadata": {
        "colab": {
          "base_uri": "https://localhost:8080/"
        },
        "id": "UWD7RKWx9ZNN",
        "outputId": "0fd0d26c-62ef-4e22-b72d-15d0bc730379"
      },
      "execution_count": null,
      "outputs": [
        {
          "output_type": "stream",
          "name": "stdout",
          "text": [
            "    5\n",
            "  3\n",
            "    2\n",
            "1\n",
            "    1\n",
            "  0\n"
          ]
        }
      ]
    },
    {
      "cell_type": "code",
      "source": [
        "#Solution-4\n",
        "class Node:\n",
        "    def __init__(self, val):\n",
        "        self.val = val\n",
        "        self.left = None\n",
        "        self.right = None\n",
        "\n",
        "def eval(node):\n",
        "    if node is None:\n",
        "        return 0\n",
        "    if node.left is None and node.right is None:\n",
        "        return int(node.val)\n",
        "\n",
        "    left_sum = eval(node.left)\n",
        "    right_sum = eval(node.right)\n",
        "\n",
        "    if node.val == '+':\n",
        "        return left_sum + right_sum\n",
        "    elif node.val == '-':\n",
        "        return left_sum - right_sum\n",
        "    elif node.val == '*':\n",
        "        return left_sum * right_sum\n",
        "    elif node.val == '/':\n",
        "        return left_sum / right_sum\n",
        "    elif node.val == '//':\n",
        "        return left_sum // right_sum\n",
        "    elif node.val == '%':\n",
        "        return left_sum % right_sum\n",
        "    elif node.val == '**':\n",
        "        return left_sum ** right_sum\n",
        "\n",
        "# Create the binary tree\n",
        "root = Node('+')\n",
        "root.left = Node('3')\n",
        "root.right = Node('*')\n",
        "root.right.left = Node('+')\n",
        "root.right.left.left = Node('5')\n",
        "root.right.left.right = Node('9')\n",
        "root.right.right = Node('2')\n",
        "\n",
        "# Evaluate the expression\n",
        "result = eval(root)\n",
        "print(\"Result:\", result)  \n"
      ],
      "metadata": {
        "colab": {
          "base_uri": "https://localhost:8080/"
        },
        "id": "a-l8e_ImoFWn",
        "outputId": "1e39d8a6-0ca1-40c6-c655-547e263788d3"
      },
      "execution_count": 24,
      "outputs": [
        {
          "output_type": "stream",
          "name": "stdout",
          "text": [
            "Result: 31\n"
          ]
        }
      ]
    }
  ]
}